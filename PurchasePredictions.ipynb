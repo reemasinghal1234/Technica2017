{
 "cells": [
  {
   "cell_type": "code",
   "execution_count": 12,
   "metadata": {},
   "outputs": [
    {
     "name": "stdout",
     "output_type": "stream",
     "text": [
      "account created\n",
      "[{u'rewards': 10000, u'customer_id': u'59fdd834a73e4942cdafe6e7', u'nickname': u'test', u'balance': 10000, u'_id': u'59fe1f71b390353c953a1c2d', u'type': u'Checking'}]\n"
     ]
    }
   ],
   "source": [
    "#initialize accounts\n",
    "import requests\n",
    "import json\n",
    "\n",
    "customerId = \"59fdd834a73e4942cdafe6e7\"\n",
    "apiKey = \"8d321601bf805362b1df611430d1dc02\"\n",
    "\n",
    "url = 'http://api.reimaginebanking.com/customers/{}/accounts?key={}'.format(customerId,apiKey)\n",
    "\n",
    "#create an account\n",
    "payload = {\n",
    "  \"type\": \"Checking\",\n",
    "  \"nickname\": \"test\",\n",
    "  \"rewards\": 10000,\n",
    "  \"balance\": 10000,\t\n",
    "}\n",
    "\n",
    "response = requests.post( \n",
    "    url, \n",
    "    data=json.dumps(payload),\n",
    "    headers={'content-type':'application/json'},\n",
    "    )\n",
    "\n",
    "if response.status_code == 201:\n",
    "    print('account created')\n",
    "    \n",
    "response = requests.get(\n",
    "    url,\n",
    "    customerId\n",
    "    ).text\n",
    "response = json.loads(response)\n",
    "accountId = response[0]['_id']\n",
    "\n",
    "print(response)\n",
    "\n",
    "#generate purchase data"
   ]
  },
  {
   "cell_type": "code",
   "execution_count": null,
   "metadata": {},
   "outputs": [],
   "source": [
    "#create purchases\n",
    "\n",
    "purchases = requests.get(url, customerId)\n",
    "print(purchases)\n"
   ]
  },
  {
   "cell_type": "code",
   "execution_count": 13,
   "metadata": {},
   "outputs": [
    {
     "data": {
      "text/plain": [
       "<Response [204]>"
      ]
     },
     "execution_count": 13,
     "metadata": {},
     "output_type": "execute_result"
    }
   ],
   "source": [
    "#deleting account data\n",
    "url = \"http://api.reimaginebanking.com/data?type={}&key={}\".format(\"Accounts\", apiKey)\n",
    "requests.delete(url)"
   ]
  }
 ],
 "metadata": {
  "kernelspec": {
   "display_name": "Python 2",
   "language": "python",
   "name": "python2"
  },
  "language_info": {
   "codemirror_mode": {
    "name": "ipython",
    "version": 2
   },
   "file_extension": ".py",
   "mimetype": "text/x-python",
   "name": "python",
   "nbconvert_exporter": "python",
   "pygments_lexer": "ipython2",
   "version": "2.7.14"
  }
 },
 "nbformat": 4,
 "nbformat_minor": 2
}
