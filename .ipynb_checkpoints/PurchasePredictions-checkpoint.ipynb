{
 "cells": [
  {
   "cell_type": "code",
   "execution_count": null,
   "metadata": {},
   "outputs": [],
   "source": [
    "#initialize accounts\n",
    "import requests\n",
    "import json\n",
    "\n",
    "customerId = \"59fdd834a73e4942cdafe6e7\"\n",
    "apiKey = \"8d321601bf805362b1df611430d1dc02\"\n",
    "\n",
    "url = 'http://api.reimaginebanking.com/customers/{}/accounts?key={}'.format(customerId,apiKey)\n",
    "\n",
    "#create an account\n",
    "payload = {\n",
    "  \"type\": \"Checking\",\n",
    "  \"nickname\": \"test\",\n",
    "  \"rewards\": 10000,\n",
    "  \"balance\": 10000,\t\n",
    "}\n",
    "\n",
    "response = requests.post( \n",
    "    url, \n",
    "    data=json.dumps(payload),\n",
    "    headers={'content-type':'application/json'},\n",
    "    )\n",
    "\n",
    "if response.status_code == 201:\n",
    "    print('account created')\n",
    "    \n",
    "response = requests.get(\n",
    "    url,\n",
    "    customerId\n",
    "    ).text\n",
    "response = json.loads(response)\n",
    "accountId = response[0]['_id']\n",
    "\n",
    "print(response)\n"
   ]
  },
  {
   "cell_type": "code",
   "execution_count": null,
   "metadata": {},
   "outputs": [],
   "source": [
    "#TODO - create merchants\n",
    "url = \"http://api.reimaginebanking.com/merchants?key={}\".format(apiKey)\n",
    "merchant = {\n",
    "    \"name\": \"Grocery Merchant\",\n",
    "    \"category\": [\n",
    "        \"groceries\"\n",
    "    ],\n",
    "    \"address\": {\n",
    "      \"street_number\": \"string\",\n",
    "      \"street_name\": \"string\",\n",
    "      \"city\": \"string\",\n",
    "      \"state\": \"MD\",\n",
    "      \"zip\": \"12345\"\n",
    "    },\n",
    "    \"geocode\": {\n",
    "      \"lat\": 0,\n",
    "      \"lng\": 0\n",
    "    }\n",
    "}\n",
    "\n",
    "response = requests.post(url, data=json.dumps(merchant), headers={'content-type':'application/json'})\n",
    "print(response.text)\n",
    "merchants = requests.get(url)\n",
    "print(merchants.text)"
   ]
  },
  {
   "cell_type": "code",
   "execution_count": null,
   "metadata": {
    "collapsed": true
   },
   "outputs": [],
   "source": [
    "#TODO - create purchases\n",
    "purchase = {\n",
    "    \"type\": purchaseType,\n",
    "    \"payer_id\": accountId,\n",
    "    \n",
    "}\n",
    "response = requests.post(\n",
    "    url,\n",
    "    purchase\n",
    ")"
   ]
  },
  {
   "cell_type": "code",
   "execution_count": null,
   "metadata": {
    "collapsed": true
   },
   "outputs": [],
   "source": []
  },
  {
   "cell_type": "code",
   "execution_count": null,
   "metadata": {},
   "outputs": [],
   "source": [
    "#deleting account data\n",
    "url = \"http://api.reimaginebanking.com/data?type={}&key={}\".format(\"Accounts\", apiKey)\n",
    "requests.delete(url)"
   ]
  }
 ],
 "metadata": {
  "kernelspec": {
   "display_name": "Python 2",
   "language": "python",
   "name": "python2"
  },
  "language_info": {
   "codemirror_mode": {
    "name": "ipython",
    "version": 2
   },
   "file_extension": ".py",
   "mimetype": "text/x-python",
   "name": "python",
   "nbconvert_exporter": "python",
   "pygments_lexer": "ipython2",
   "version": "2.7.14"
  }
 },
 "nbformat": 4,
 "nbformat_minor": 2
}
